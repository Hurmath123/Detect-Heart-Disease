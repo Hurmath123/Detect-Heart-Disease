{
 "cells": [
  {
   "cell_type": "markdown",
   "id": "9795e9f7",
   "metadata": {},
   "source": [
    "# 💓 Heart Disease Prediction Project\n",
    "\n",
    "## 📌 Goal\n",
    "\n",
    "Build a machine learning pipeline that can predict whether a person is likely to have heart disease based on clinical features. This tool aims to assist in early detection and encourage timely medical follow-up."
   ]
  },
  {
   "cell_type": "markdown",
   "id": "d01f8721",
   "metadata": {},
   "source": [
    "# 🧠 Problem Motivation\n",
    "\n",
    "Heart disease is one of the leading causes of death worldwide. Early detection is critical for treatment and prevention. By leveraging clinical data and machine learning, we aim to build a predictive model that can:\n",
    "\n",
    "- Provide a second opinion to healthcare providers.\n",
    "\n",
    "- Raise awareness for patients at risk.\n",
    "\n",
    "- Be deployed as a simple, interactive web app."
   ]
  },
  {
   "cell_type": "markdown",
   "id": "73b895b1",
   "metadata": {},
   "source": [
    "# 📁 Dataset and Features\n",
    "\n",
    "We use a structured dataset where each row represents a patient, and columns represent clinical measurements.\n",
    "\n",
    "## Selected Features:\n",
    "\n",
    "- oldpeak\n",
    "\n",
    "- sex\n",
    "\n",
    "- exercise angina\n",
    "\n",
    "- fasting blood sugar\n",
    "\n",
    "- chest pain type\n",
    "\n",
    "- cholesterol\n",
    "\n",
    "- max heart rate\n",
    "\n",
    "- resting bp s\n",
    "\n",
    "- age\n",
    "\n",
    "- resting ecg\n",
    "\n",
    "- ST slope\n",
    "\n",
    "## Target:\n",
    "\n",
    "target: 1 = Heart Disease, 0 = No Disease"
   ]
  },
  {
   "cell_type": "code",
   "execution_count": 1,
   "id": "8041242e",
   "metadata": {},
   "outputs": [],
   "source": [
    "import pandas as pd\n",
    "import matplotlib.pyplot as plt\n",
    "import seaborn as sns\n",
    "import numpy as np\n",
    "import shap\n",
    "import joblib\n",
    "import json\n",
    "from sklearn.model_selection import train_test_split, cross_val_score, RandomizedSearchCV, GridSearchCV\n",
    "from sklearn.preprocessing import StandardScaler\n",
    "from sklearn.metrics import accuracy_score, precision_score, recall_score, f1_score, roc_auc_score, confusion_matrix, classification_report\n",
    "from sklearn.ensemble import RandomForestClassifier, GradientBoostingClassifier, AdaBoostClassifier, BaggingClassifier, VotingClassifier, StackingClassifier\n",
    "from sklearn.svm import SVC\n",
    "from sklearn.neighbors import KNeighborsClassifier\n",
    "from sklearn.tree import DecisionTreeClassifier\n",
    "from sklearn.linear_model import LogisticRegression\n",
    "from sklearn.inspection import permutation_importance\n",
    "from sklearn.pipeline import make_pipeline\n",
    "import warnings\n",
    "warnings.filterwarnings(\"ignore\")"
   ]
  },
  {
   "cell_type": "code",
   "execution_count": 2,
   "id": "f0590632",
   "metadata": {},
   "outputs": [],
   "source": [
    "# Load the dataset\n",
    "df = pd.read_csv('dataset.csv')"
   ]
  },
  {
   "cell_type": "code",
   "execution_count": 3,
   "id": "2d6fea4c",
   "metadata": {},
   "outputs": [
    {
     "data": {
      "text/html": [
       "<div>\n",
       "<style scoped>\n",
       "    .dataframe tbody tr th:only-of-type {\n",
       "        vertical-align: middle;\n",
       "    }\n",
       "\n",
       "    .dataframe tbody tr th {\n",
       "        vertical-align: top;\n",
       "    }\n",
       "\n",
       "    .dataframe thead th {\n",
       "        text-align: right;\n",
       "    }\n",
       "</style>\n",
       "<table border=\"1\" class=\"dataframe\">\n",
       "  <thead>\n",
       "    <tr style=\"text-align: right;\">\n",
       "      <th></th>\n",
       "      <th>age</th>\n",
       "      <th>sex</th>\n",
       "      <th>chest pain type</th>\n",
       "      <th>resting bp s</th>\n",
       "      <th>cholesterol</th>\n",
       "      <th>fasting blood sugar</th>\n",
       "      <th>resting ecg</th>\n",
       "      <th>max heart rate</th>\n",
       "      <th>exercise angina</th>\n",
       "      <th>oldpeak</th>\n",
       "      <th>ST slope</th>\n",
       "      <th>target</th>\n",
       "    </tr>\n",
       "  </thead>\n",
       "  <tbody>\n",
       "    <tr>\n",
       "      <th>0</th>\n",
       "      <td>40</td>\n",
       "      <td>1</td>\n",
       "      <td>2</td>\n",
       "      <td>140</td>\n",
       "      <td>289</td>\n",
       "      <td>0</td>\n",
       "      <td>0</td>\n",
       "      <td>172</td>\n",
       "      <td>0</td>\n",
       "      <td>0.0</td>\n",
       "      <td>1</td>\n",
       "      <td>0</td>\n",
       "    </tr>\n",
       "    <tr>\n",
       "      <th>1</th>\n",
       "      <td>49</td>\n",
       "      <td>0</td>\n",
       "      <td>3</td>\n",
       "      <td>160</td>\n",
       "      <td>180</td>\n",
       "      <td>0</td>\n",
       "      <td>0</td>\n",
       "      <td>156</td>\n",
       "      <td>0</td>\n",
       "      <td>1.0</td>\n",
       "      <td>2</td>\n",
       "      <td>1</td>\n",
       "    </tr>\n",
       "    <tr>\n",
       "      <th>2</th>\n",
       "      <td>37</td>\n",
       "      <td>1</td>\n",
       "      <td>2</td>\n",
       "      <td>130</td>\n",
       "      <td>283</td>\n",
       "      <td>0</td>\n",
       "      <td>1</td>\n",
       "      <td>98</td>\n",
       "      <td>0</td>\n",
       "      <td>0.0</td>\n",
       "      <td>1</td>\n",
       "      <td>0</td>\n",
       "    </tr>\n",
       "    <tr>\n",
       "      <th>3</th>\n",
       "      <td>48</td>\n",
       "      <td>0</td>\n",
       "      <td>4</td>\n",
       "      <td>138</td>\n",
       "      <td>214</td>\n",
       "      <td>0</td>\n",
       "      <td>0</td>\n",
       "      <td>108</td>\n",
       "      <td>1</td>\n",
       "      <td>1.5</td>\n",
       "      <td>2</td>\n",
       "      <td>1</td>\n",
       "    </tr>\n",
       "    <tr>\n",
       "      <th>4</th>\n",
       "      <td>54</td>\n",
       "      <td>1</td>\n",
       "      <td>3</td>\n",
       "      <td>150</td>\n",
       "      <td>195</td>\n",
       "      <td>0</td>\n",
       "      <td>0</td>\n",
       "      <td>122</td>\n",
       "      <td>0</td>\n",
       "      <td>0.0</td>\n",
       "      <td>1</td>\n",
       "      <td>0</td>\n",
       "    </tr>\n",
       "  </tbody>\n",
       "</table>\n",
       "</div>"
      ],
      "text/plain": [
       "   age  sex  chest pain type  resting bp s  cholesterol  fasting blood sugar  \\\n",
       "0   40    1                2           140          289                    0   \n",
       "1   49    0                3           160          180                    0   \n",
       "2   37    1                2           130          283                    0   \n",
       "3   48    0                4           138          214                    0   \n",
       "4   54    1                3           150          195                    0   \n",
       "\n",
       "   resting ecg  max heart rate  exercise angina  oldpeak  ST slope  target  \n",
       "0            0             172                0      0.0         1       0  \n",
       "1            0             156                0      1.0         2       1  \n",
       "2            1              98                0      0.0         1       0  \n",
       "3            0             108                1      1.5         2       1  \n",
       "4            0             122                0      0.0         1       0  "
      ]
     },
     "execution_count": 3,
     "metadata": {},
     "output_type": "execute_result"
    }
   ],
   "source": [
    "# Display the first few rows\n",
    "df.head()"
   ]
  },
  {
   "cell_type": "code",
   "execution_count": 4,
   "id": "156bf226",
   "metadata": {},
   "outputs": [
    {
     "name": "stdout",
     "output_type": "stream",
     "text": [
      "<class 'pandas.core.frame.DataFrame'>\n",
      "RangeIndex: 1190 entries, 0 to 1189\n",
      "Data columns (total 12 columns):\n",
      " #   Column               Non-Null Count  Dtype  \n",
      "---  ------               --------------  -----  \n",
      " 0   age                  1190 non-null   int64  \n",
      " 1   sex                  1190 non-null   int64  \n",
      " 2   chest pain type      1190 non-null   int64  \n",
      " 3   resting bp s         1190 non-null   int64  \n",
      " 4   cholesterol          1190 non-null   int64  \n",
      " 5   fasting blood sugar  1190 non-null   int64  \n",
      " 6   resting ecg          1190 non-null   int64  \n",
      " 7   max heart rate       1190 non-null   int64  \n",
      " 8   exercise angina      1190 non-null   int64  \n",
      " 9   oldpeak              1190 non-null   float64\n",
      " 10  ST slope             1190 non-null   int64  \n",
      " 11  target               1190 non-null   int64  \n",
      "dtypes: float64(1), int64(11)\n",
      "memory usage: 111.7 KB\n"
     ]
    }
   ],
   "source": [
    "# Basic info\n",
    "df.info()"
   ]
  },
  {
   "cell_type": "code",
   "execution_count": 5,
   "id": "bfc510d5",
   "metadata": {},
   "outputs": [
    {
     "data": {
      "text/plain": [
       "age                    0\n",
       "sex                    0\n",
       "chest pain type        0\n",
       "resting bp s           0\n",
       "cholesterol            0\n",
       "fasting blood sugar    0\n",
       "resting ecg            0\n",
       "max heart rate         0\n",
       "exercise angina        0\n",
       "oldpeak                0\n",
       "ST slope               0\n",
       "target                 0\n",
       "dtype: int64"
      ]
     },
     "execution_count": 5,
     "metadata": {},
     "output_type": "execute_result"
    }
   ],
   "source": [
    "# Check for missing values\n",
    "df.isnull().sum()\n"
   ]
  },
  {
   "cell_type": "code",
   "execution_count": 6,
   "id": "4d1496e2",
   "metadata": {},
   "outputs": [],
   "source": [
    "features = ['oldpeak', 'sex', 'exercise angina', 'fasting blood sugar',\n",
    "            'chest pain type', 'cholesterol', 'max heart rate',\n",
    "            'resting bp s', 'age', 'resting ecg', 'ST slope']\n",
    "X = df[features]\n",
    "y = df['target']\n",
    "\n",
    "# Split and scale\n",
    "X_train, X_test, y_train, y_test = train_test_split(X, y, stratify=y, random_state=42)\n",
    "scaler = StandardScaler()\n",
    "X_train_scaled = scaler.fit_transform(X_train)\n",
    "X_test_scaled = scaler.transform(X_test)"
   ]
  },
  {
   "cell_type": "code",
   "execution_count": 7,
   "id": "9888d85b",
   "metadata": {},
   "outputs": [
    {
     "data": {
      "text/html": [
       "<div>\n",
       "<style scoped>\n",
       "    .dataframe tbody tr th:only-of-type {\n",
       "        vertical-align: middle;\n",
       "    }\n",
       "\n",
       "    .dataframe tbody tr th {\n",
       "        vertical-align: top;\n",
       "    }\n",
       "\n",
       "    .dataframe thead th {\n",
       "        text-align: right;\n",
       "    }\n",
       "</style>\n",
       "<table border=\"1\" class=\"dataframe\">\n",
       "  <thead>\n",
       "    <tr style=\"text-align: right;\">\n",
       "      <th></th>\n",
       "      <th>Model</th>\n",
       "      <th>Accuracy</th>\n",
       "      <th>Precision</th>\n",
       "      <th>Recall</th>\n",
       "      <th>F1 Score</th>\n",
       "      <th>ROC AUC</th>\n",
       "    </tr>\n",
       "  </thead>\n",
       "  <tbody>\n",
       "    <tr>\n",
       "      <th>0</th>\n",
       "      <td>Random Forest</td>\n",
       "      <td>0.909396</td>\n",
       "      <td>0.933775</td>\n",
       "      <td>0.892405</td>\n",
       "      <td>0.912621</td>\n",
       "      <td>0.970434</td>\n",
       "    </tr>\n",
       "    <tr>\n",
       "      <th>1</th>\n",
       "      <td>Gradient Boosting</td>\n",
       "      <td>0.895973</td>\n",
       "      <td>0.909677</td>\n",
       "      <td>0.892405</td>\n",
       "      <td>0.900958</td>\n",
       "      <td>0.951808</td>\n",
       "    </tr>\n",
       "    <tr>\n",
       "      <th>2</th>\n",
       "      <td>Decision Tree</td>\n",
       "      <td>0.869128</td>\n",
       "      <td>0.904762</td>\n",
       "      <td>0.841772</td>\n",
       "      <td>0.872131</td>\n",
       "      <td>0.870886</td>\n",
       "    </tr>\n",
       "    <tr>\n",
       "      <th>3</th>\n",
       "      <td>AdaBoost</td>\n",
       "      <td>0.845638</td>\n",
       "      <td>0.845679</td>\n",
       "      <td>0.867089</td>\n",
       "      <td>0.856250</td>\n",
       "      <td>0.922672</td>\n",
       "    </tr>\n",
       "    <tr>\n",
       "      <th>4</th>\n",
       "      <td>Logistic Regression</td>\n",
       "      <td>0.838926</td>\n",
       "      <td>0.852564</td>\n",
       "      <td>0.841772</td>\n",
       "      <td>0.847134</td>\n",
       "      <td>0.909629</td>\n",
       "    </tr>\n",
       "    <tr>\n",
       "      <th>5</th>\n",
       "      <td>K-Nearest Neighbors</td>\n",
       "      <td>0.711409</td>\n",
       "      <td>0.722222</td>\n",
       "      <td>0.740506</td>\n",
       "      <td>0.731250</td>\n",
       "      <td>0.784697</td>\n",
       "    </tr>\n",
       "    <tr>\n",
       "      <th>6</th>\n",
       "      <td>Support Vector Machine</td>\n",
       "      <td>0.718121</td>\n",
       "      <td>0.753425</td>\n",
       "      <td>0.696203</td>\n",
       "      <td>0.723684</td>\n",
       "      <td>0.791998</td>\n",
       "    </tr>\n",
       "  </tbody>\n",
       "</table>\n",
       "</div>"
      ],
      "text/plain": [
       "                    Model  Accuracy  Precision    Recall  F1 Score   ROC AUC\n",
       "0           Random Forest  0.909396   0.933775  0.892405  0.912621  0.970434\n",
       "1       Gradient Boosting  0.895973   0.909677  0.892405  0.900958  0.951808\n",
       "2           Decision Tree  0.869128   0.904762  0.841772  0.872131  0.870886\n",
       "3                AdaBoost  0.845638   0.845679  0.867089  0.856250  0.922672\n",
       "4     Logistic Regression  0.838926   0.852564  0.841772  0.847134  0.909629\n",
       "5     K-Nearest Neighbors  0.711409   0.722222  0.740506  0.731250  0.784697\n",
       "6  Support Vector Machine  0.718121   0.753425  0.696203  0.723684  0.791998"
      ]
     },
     "execution_count": 7,
     "metadata": {},
     "output_type": "execute_result"
    }
   ],
   "source": [
    "# Define models to compare\n",
    "models = {\n",
    "    'Logistic Regression': LogisticRegression(max_iter=1000),\n",
    "    'K-Nearest Neighbors': KNeighborsClassifier(),\n",
    "    'Support Vector Machine': SVC(probability=True),\n",
    "    'Decision Tree': DecisionTreeClassifier(),\n",
    "    'Random Forest': RandomForestClassifier(),\n",
    "    'AdaBoost': AdaBoostClassifier(),\n",
    "    'Gradient Boosting': GradientBoostingClassifier()\n",
    "}\n",
    "\n",
    "# Evaluate each model\n",
    "results = []\n",
    "for name, model in models.items():\n",
    "    model.fit(X_train, y_train)\n",
    "    y_pred = model.predict(X_test)\n",
    "    y_proba = model.predict_proba(X_test)[:, 1] if hasattr(model, \"predict_proba\") else np.zeros_like(y_pred)\n",
    "    \n",
    "    results.append({\n",
    "        'Model': name,\n",
    "        'Accuracy': accuracy_score(y_test, y_pred),\n",
    "        'Precision': precision_score(y_test, y_pred),\n",
    "        'Recall': recall_score(y_test, y_pred),\n",
    "        'F1 Score': f1_score(y_test, y_pred),\n",
    "        'ROC AUC': roc_auc_score(y_test, y_proba)\n",
    "    })\n",
    "\n",
    "# Display results\n",
    "results_df = pd.DataFrame(results).sort_values(by='F1 Score', ascending=False)\n",
    "results_df.reset_index(drop=True, inplace=True)\n",
    "results_df"
   ]
  },
  {
   "cell_type": "markdown",
   "id": "328c2034",
   "metadata": {},
   "source": [
    "# Hyperparameter Tuning the top three models"
   ]
  },
  {
   "cell_type": "code",
   "execution_count": null,
   "id": "fbb38fba",
   "metadata": {},
   "outputs": [
    {
     "name": "stdout",
     "output_type": "stream",
     "text": [
      "Random Forest - Accuracy: 0.9128, F1: 0.9128\n",
      "Gradient Boosting - Accuracy: 0.8993, F1: 0.8994\n",
      "Decision Tree - Accuracy: 0.8557, F1: 0.8558\n"
     ]
    }
   ],
   "source": [
    "def run_grid_search(model, param_grid, model_name):\n",
    "    print(f\"Tuning {model_name}...\")\n",
    "    grid = GridSearchCV(\n",
    "        estimator=model,\n",
    "        param_grid=param_grid,\n",
    "        scoring='f1',\n",
    "        cv=5,\n",
    "        n_jobs=-1,\n",
    "        verbose=2\n",
    "    )\n",
    "    grid.fit(X_train_scaled, y_train)\n",
    "    print(f\"Best F1 score for {model_name}: {grid.best_score_:.4f}\")\n",
    "    print(f\"Best Parameters for {model_name}: {grid.best_params_}\")\n",
    "    return grid.best_estimator_\n",
    "\n",
    "# Random Forest\n",
    "param_grid_rf = {\n",
    "    'n_estimators': [100, 200],\n",
    "    'max_depth': [10, 20, None],\n",
    "    'min_samples_split': [2, 5],\n",
    "    'min_samples_leaf': [1, 2]\n",
    "}\n",
    "best_rf = run_grid_search(RandomForestClassifier(random_state=42), param_grid_rf, \"Random Forest\")\n",
    "\n",
    "# Gradient Boosting\n",
    "param_grid_gb = {\n",
    "    'n_estimators': [100, 150],\n",
    "    'learning_rate': [0.05, 0.1],\n",
    "    'max_depth': [3, 5, 7]\n",
    "}\n",
    "best_gb = run_grid_search(GradientBoostingClassifier(random_state=42), param_grid_gb, \"Gradient Boosting\")\n",
    "\n",
    "# Decision Tree\n",
    "param_grid_dt = {\n",
    "    'max_depth': [5, 10, None],\n",
    "    'min_samples_split': [2, 5],\n",
    "    'min_samples_leaf': [1, 2]\n",
    "}\n",
    "best_dt = run_grid_search(DecisionTreeClassifier(random_state=42), param_grid_dt, \"Decision Tree\")\n"
   ]
  },
  {
   "cell_type": "markdown",
   "id": "9fac2b8f",
   "metadata": {},
   "source": [
    "# Various ensemble methods"
   ]
  },
  {
   "cell_type": "code",
   "execution_count": 12,
   "id": "e1e6aab7",
   "metadata": {},
   "outputs": [
    {
     "name": "stdout",
     "output_type": "stream",
     "text": [
      "Bagging Classifier Report:\n",
      "               precision    recall  f1-score   support\n",
      "\n",
      "           0       0.88      0.91      0.90       140\n",
      "           1       0.92      0.89      0.91       158\n",
      "\n",
      "    accuracy                           0.90       298\n",
      "   macro avg       0.90      0.90      0.90       298\n",
      "weighted avg       0.90      0.90      0.90       298\n",
      "\n",
      "Bagging Classifier Accuracy: 0.9026845637583892\n",
      "Bagging Classifier F1 Score: 0.9067524115755627\n",
      "Confusion Matrix:\n",
      " [[128  12]\n",
      " [ 17 141]]\n",
      "ROC AUC: 0.9572106690777578\n"
     ]
    }
   ],
   "source": [
    "bagging_model = BaggingClassifier(\n",
    "    estimator=DecisionTreeClassifier(),\n",
    "    n_estimators=100,\n",
    "    max_samples=0.8,\n",
    "    max_features=1.0,\n",
    "    bootstrap=True,\n",
    "    random_state=42\n",
    ")\n",
    "\n",
    "bagging_model.fit(X_train, y_train)\n",
    "y_pred_bag = bagging_model.predict(X_test)\n",
    "y_proba_bag = bagging_model.predict_proba(X_test)[:, 1]\n",
    "\n",
    "print(\"Bagging Classifier Report:\\n\", classification_report(y_test, y_pred_bag))\n",
    "print(\"Bagging Classifier Accuracy:\", accuracy_score(y_test, y_pred_bag))\n",
    "print(\"Bagging Classifier F1 Score:\", f1_score(y_test, y_pred_bag))\n",
    "print(\"Confusion Matrix:\\n\", confusion_matrix(y_test, y_pred_bag))\n",
    "print(\"ROC AUC:\", roc_auc_score(y_test, y_proba_bag))\n"
   ]
  },
  {
   "cell_type": "code",
   "execution_count": 13,
   "id": "ff988c8e",
   "metadata": {},
   "outputs": [
    {
     "name": "stdout",
     "output_type": "stream",
     "text": [
      "Voting Classifier Report:\n",
      "               precision    recall  f1-score   support\n",
      "\n",
      "           0       0.87      0.91      0.89       140\n",
      "           1       0.92      0.88      0.90       158\n",
      "\n",
      "    accuracy                           0.90       298\n",
      "   macro avg       0.90      0.90      0.90       298\n",
      "weighted avg       0.90      0.90      0.90       298\n",
      "\n",
      "Voting Classifier Accuracy: 0.8959731543624161\n",
      "Voting Classifier F1 Score: 0.8996763754045307\n",
      "Confusion Matrix:\n",
      " [[128  12]\n",
      " [ 19 139]]\n",
      "ROC AUC: 0.9646021699819167\n"
     ]
    }
   ],
   "source": [
    "voting = VotingClassifier(\n",
    "    estimators=[\n",
    "        ('rf', best_rf),\n",
    "        ('gb', best_gb),  \n",
    "        ('svc', best_dt)     \n",
    "    ],\n",
    "    voting='soft'\n",
    ")\n",
    "\n",
    "voting.fit(X_train, y_train)\n",
    "\n",
    "y_pred_vote = voting.predict(X_test)\n",
    "y_proba_vote = voting.predict_proba(X_test)[:, 1]\n",
    "\n",
    "print(\"Voting Classifier Report:\\n\", classification_report(y_test, y_pred_vote))\n",
    "print(\"Voting Classifier Accuracy:\", accuracy_score(y_test, y_pred_vote))\n",
    "print(\"Voting Classifier F1 Score:\", f1_score(y_test, y_pred_vote))\n",
    "print(\"Confusion Matrix:\\n\", confusion_matrix(y_test, y_pred_vote))\n",
    "print(\"ROC AUC:\", roc_auc_score(y_test, y_proba_vote))"
   ]
  },
  {
   "cell_type": "code",
   "execution_count": 14,
   "id": "3bf1a382",
   "metadata": {},
   "outputs": [
    {
     "name": "stdout",
     "output_type": "stream",
     "text": [
      "Stacking Classifier Report:\n",
      "               precision    recall  f1-score   support\n",
      "\n",
      "           0       0.88      0.93      0.91       140\n",
      "           1       0.93      0.89      0.91       158\n",
      "\n",
      "    accuracy                           0.91       298\n",
      "   macro avg       0.91      0.91      0.91       298\n",
      "weighted avg       0.91      0.91      0.91       298\n",
      "\n",
      "Stacking Classifier Accuracy: 0.9093959731543624\n",
      "Stacking Classifier F1 Score: 0.912621359223301\n",
      "Confusion Matrix:\n",
      " [[130  10]\n",
      " [ 17 141]]\n",
      "ROC AUC: 0.9650542495479204\n"
     ]
    }
   ],
   "source": [
    "estimators = [\n",
    "    ('rf', best_rf),\n",
    "    ('gb', best_gb),\n",
    "    ('svc', best_dt)\n",
    "]\n",
    "\n",
    "# Meta-model: Logistic Regression\n",
    "stacking_model = StackingClassifier(\n",
    "    estimators=estimators,\n",
    "    final_estimator=LogisticRegression(max_iter=10000),\n",
    "    cv=5,\n",
    "    passthrough=True,  # Optional: allows meta-model to access original features too\n",
    "    n_jobs=-1\n",
    ")\n",
    "\n",
    "# Train\n",
    "stacking_model.fit(X_train, y_train)\n",
    "\n",
    "# Predict and evaluate\n",
    "y_pred_stack = stacking_model.predict(X_test)\n",
    "y_proba_stack = stacking_model.predict_proba(X_test)[:, 1]\n",
    "\n",
    "print(\"Stacking Classifier Report:\\n\", classification_report(y_test, y_pred_stack))\n",
    "print(\"Stacking Classifier Accuracy:\", accuracy_score(y_test, y_pred_stack))\n",
    "print(\"Stacking Classifier F1 Score:\", f1_score(y_test, y_pred_stack))\n",
    "print(\"Confusion Matrix:\\n\", confusion_matrix(y_test, y_pred_stack))\n",
    "print(\"ROC AUC:\", roc_auc_score(y_test, y_proba_stack))"
   ]
  },
  {
   "cell_type": "code",
   "execution_count": 15,
   "id": "12a9b1df",
   "metadata": {},
   "outputs": [
    {
     "name": "stdout",
     "output_type": "stream",
     "text": [
      "Logistic Regression: Mean F1 = 0.8228, Std = 0.0386\n",
      "K-Nearest Neighbors: Mean F1 = 0.8505, Std = 0.0319\n",
      "Support Vector Machine: Mean F1 = 0.8622, Std = 0.0308\n",
      "Decision Tree: Mean F1 = 0.8776, Std = 0.0773\n",
      "Random Forest: Mean F1 = 0.9391, Std = 0.0330\n",
      "AdaBoost: Mean F1 = 0.8477, Std = 0.0469\n",
      "Gradient Boosting: Mean F1 = 0.8870, Std = 0.0253\n"
     ]
    }
   ],
   "source": [
    "# We'll evaluate models using F1 score on full data\n",
    "cv_scores = {}\n",
    "\n",
    "for name, model in models.items():\n",
    "    try:\n",
    "        # Create a pipeline with scaling + model (ensures fair comparison)\n",
    "        pipeline = make_pipeline(StandardScaler(), model)\n",
    "        scores = cross_val_score(pipeline, X, y, cv=5, scoring=\"f1\")\n",
    "        cv_scores[name] = np.mean(scores)\n",
    "        print(f\"{name}: Mean F1 = {np.mean(scores):.4f}, Std = {np.std(scores):.4f}\")\n",
    "    except Exception as e:\n",
    "        print(f\"{name} failed: {e}\")\n"
   ]
  },
  {
   "cell_type": "markdown",
   "id": "324657fe",
   "metadata": {},
   "source": [
    "# Visualizing the best Features"
   ]
  },
  {
   "cell_type": "code",
   "execution_count": 16,
   "id": "f12ec36c",
   "metadata": {},
   "outputs": [
    {
     "data": {
      "image/png": "[encoded data removed]",
      "text/plain": [
       "<Figure size 640x480 with 1 Axes>"
      ]
     },
     "metadata": {},
     "output_type": "display_data"
    },
    {
     "name": "stdout",
     "output_type": "stream",
     "text": [
      "Top 10 Permutation Features:\n",
      "1. oldpeak\n",
      "2. sex\n",
      "3. fasting blood sugar\n",
      "4. chest pain type\n",
      "5. ST slope\n",
      "6. exercise angina\n",
      "7. resting ecg\n",
      "8. cholesterol\n",
      "9. max heart rate\n",
      "10. resting bp s\n"
     ]
    }
   ],
   "source": [
    "# Compute permutation importance\n",
    "result = permutation_importance(\n",
    "    stacking_model,\n",
    "    X_test_scaled,\n",
    "    y_test,\n",
    "    n_repeats=10,\n",
    "    random_state=42,\n",
    "    scoring='f1_weighted'\n",
    ")\n",
    "\n",
    "# Convert to Series with feature names\n",
    "perm_importances = pd.Series(result.importances_mean, index=X.columns)\n",
    "\n",
    "# Get top 10 features\n",
    "top_10_features = perm_importances.sort_values(ascending=False).head(10)\n",
    "\n",
    "# Plot in descending order (top to bottom)\n",
    "top_10_features[::-1].plot(kind='barh', color='steelblue')\n",
    "plt.title(\"Top 10 Feature Importances (Permutation - Stacking)\")\n",
    "plt.xlabel(\"Mean Decrease in F1 Score\")\n",
    "plt.tight_layout()\n",
    "plt.show()\n",
    "\n",
    "# Print feature names\n",
    "print(\"Top 10 Permutation Features:\")\n",
    "for i, feat in enumerate(top_10_features.index, 1):\n",
    "    print(f\"{i}. {feat}\")\n"
   ]
  },
  {
   "cell_type": "code",
   "execution_count": 17,
   "id": "1a5255b6",
   "metadata": {},
   "outputs": [
    {
     "data": {
      "text/plain": [
       "['scaler.pkl']"
      ]
     },
     "execution_count": 17,
     "metadata": {},
     "output_type": "execute_result"
    }
   ],
   "source": [
    "joblib.dump(stacking_model, 'best_model.pkl')\n",
    "correct_feature_names = ['oldpeak', 'sex', 'exercise angina', 'fasting blood sugar',\n",
    "                         'chest pain type', 'cholesterol', 'max heart rate',\n",
    "                         'resting bp s', 'age', 'resting ecg', 'ST slope']\n",
    "joblib.dump(correct_feature_names, \"feature_names.pkl\")\n",
    "joblib.dump(perm_importances, 'permutation_importance.pkl')\n",
    "joblib.dump(scaler, 'scaler.pkl')"
   ]
  },
  {
   "cell_type": "code",
   "execution_count": 18,
   "id": "38c91e4d",
   "metadata": {},
   "outputs": [],
   "source": [
    "metrics = {'accuracy': acc, 'f1_score': f1}\n",
    "with open('metrics.json', 'w') as f:\n",
    "    json.dump(metrics, f)"
   ]
  }
 ],
 "metadata": {
  "kernelspec": {
   "display_name": "Python 3",
   "language": "python",
   "name": "python3"
  },
  "language_info": {
   "codemirror_mode": {
    "name": "ipython",
    "version": 3
   },
   "file_extension": ".py",
   "mimetype": "text/x-python",
   "name": "python",
   "nbconvert_exporter": "python",
   "pygments_lexer": "ipython3",
   "version": "3.10.8"
  }
 },
 "nbformat": 4,
 "nbformat_minor": 5
}
